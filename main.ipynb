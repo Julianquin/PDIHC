{
 "cells": [
  {
   "cell_type": "code",
   "execution_count": null,
   "metadata": {},
   "outputs": [],
   "source": [
    "from utils import *"
   ]
  },
  {
   "cell_type": "code",
   "execution_count": null,
   "metadata": {},
   "outputs": [],
   "source": [
    "# Parámetros del modelo PDI\n",
    "alpha = 0.05\n",
    "lr = 0.001\n",
    "T_burnin = 5\n",
    "Csat = 2.0\n",
    "KI = 1.0\n",
    "ahead = 1\n",
    "seasonal_period = 7"
   ]
  },
  {
   "cell_type": "code",
   "execution_count": null,
   "metadata": {},
   "outputs": [],
   "source": [
    "# Simular datos\n",
    "n_series = 3\n",
    "n_points = 60\n",
    "np.random.seed(42)\n",
    "dates = pd.date_range(start=\"2023-01-01\", periods=n_points, freq=\"D\")\n",
    "\n",
    "data = []\n",
    "for i in range(1, n_series + 1):\n",
    "    key = f\"SERIE_{i}\"\n",
    "    y_real = np.random.normal(100, 10, n_points)\n",
    "    y_pred = y_real + np.random.normal(0, 10, n_points)\n",
    "    future = [0] * int(n_points * 0.7) + [1] * int(n_points * 0.3)\n",
    "    data.extend({\n",
    "        \"KEY\": key,\n",
    "        \"FECHA\": date,\n",
    "        \"Y\": real if not fut else np.nan,\n",
    "        \"YHATFIN\": pred,\n",
    "        \"FUTURE\": fut,\n",
    "        \"YHAT_L\": np.nan,\n",
    "        \"YHAT_U\": np.nan,\n",
    "    } for date, real, pred, fut in zip(dates, y_real, y_pred, future))\n",
    "\n",
    "df = pd.DataFrame(data)\n",
    "\n",
    "# Aplicar intervalos\n",
    "df = assign_data_sets(df, date_col=\"FECHA\", future_col=\"FUTURE\", calib_ratio=0.3)\n",
    "df_pdi = apply_pdi_with_calibration(\n",
    "    df=df,\n",
    "    key_col=\"KEY\",\n",
    "    date_col=\"FECHA\",\n",
    "    value_col=\"Y\",\n",
    "    pred_col=\"YHATFIN\",\n",
    "    lower_col=\"YHAT_L\",\n",
    "    upper_col=\"YHAT_U\",\n",
    "    alpha=alpha,\n",
    "    lr=lr,\n",
    "    T_burnin=T_burnin,\n",
    "    Csat=Csat,\n",
    "    KI=KI,\n",
    "    ahead=ahead,\n",
    "    seasonal_period=seasonal_period,\n",
    "    set_col=\"SET\"\n",
    ")\n",
    "\n"
   ]
  },
  {
   "cell_type": "code",
   "execution_count": null,
   "metadata": {},
   "outputs": [],
   "source": [
    "# Visualizar resultados para una serie\n",
    "plot_series_results_with_sets(df_pdi, key=\"SERIE_1\")\n",
    "\n",
    "# Visualizar resultados para una serie\n",
    "plot_series_results_with_sets(df_pdi, key=\"SERIE_2\")\n",
    "\n",
    "# Visualizar resultados para una serie\n",
    "plot_series_results_with_sets(df_pdi, key=\"SERIE_3\")"
   ]
  },
  {
   "cell_type": "code",
   "execution_count": null,
   "metadata": {},
   "outputs": [],
   "source": [
    "print(df_pdi.to_string())"
   ]
  },
  {
   "cell_type": "code",
   "execution_count": null,
   "metadata": {},
   "outputs": [],
   "source": [
    "# Dividir el DataFrame en TRAIN, CALIBRATION y TEST\n",
    "train_df = df_pdi[df_pdi[\"SET\"] == \"TRAIN\"]\n",
    "calib_df = df_pdi[df_pdi[\"SET\"] == \"CALIBRATION\"]\n",
    "test_df = df_pdi[df_pdi[\"SET\"] == \"TEST\"]\n",
    "\n",
    "# Calcular métricas por serie (KEY) para el conjunto de calibración\n",
    "calib_metrics_by_key = calculate_metrics(\n",
    "    calib_df,\n",
    "    value_col=\"Y\",\n",
    "    lower_col=\"YHAT_L\",\n",
    "    upper_col=\"YHAT_U\",\n",
    "    condition_col=\"KEY\"\n",
    ")\n",
    "\n",
    "# Mostrar resultados\n",
    "print(\"Métricas por KEY (Calibración):\")\n",
    "print(calib_metrics_by_key)"
   ]
  }
 ],
 "metadata": {
  "kernelspec": {
   "display_name": ".venv",
   "language": "python",
   "name": "python3"
  },
  "language_info": {
   "codemirror_mode": {
    "name": "ipython",
    "version": 3
   },
   "file_extension": ".py",
   "mimetype": "text/x-python",
   "name": "python",
   "nbconvert_exporter": "python",
   "pygments_lexer": "ipython3",
   "version": "3.12.2"
  }
 },
 "nbformat": 4,
 "nbformat_minor": 2
}
